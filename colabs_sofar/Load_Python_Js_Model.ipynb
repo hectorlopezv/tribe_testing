{
  "nbformat": 4,
  "nbformat_minor": 0,
  "metadata": {
    "colab": {
      "name": "Load-Python-Js-Model.ipynb",
      "provenance": [],
      "collapsed_sections": []
    },
    "kernelspec": {
      "name": "python3",
      "display_name": "Python 3"
    }
  },
  "cells": [
    {
      "cell_type": "code",
      "metadata": {
        "id": "nliDEeJ8AApi"
      },
      "source": [
        "!pip install tensorflowjs\n"
      ],
      "execution_count": null,
      "outputs": []
    },
    {
      "cell_type": "code",
      "metadata": {
        "id": "_copbbXwA9UT",
        "outputId": "175ba9ec-54f4-446c-a6b0-b9b5fb22b150",
        "colab": {
          "base_uri": "https://localhost:8080/",
          "height": 756
        }
      },
      "source": [
        "#Load Frozen Model\n",
        "!tensorflowjs_converter --input_format=tf_frozen_model --output_node_names='SemanticProbabilities' /content/frozen_inference_graph_513.pb /content/output/web_model_2"
      ],
      "execution_count": 23,
      "outputs": [
        {
          "output_type": "stream",
          "text": [
            "2020-10-16 22:40:50.430359: I tensorflow/stream_executor/platform/default/dso_loader.cc:48] Successfully opened dynamic library libcudart.so.10.1\n",
            "2020-10-16 22:40:52.456373: I tensorflow/core/grappler/optimizers/meta_optimizer.cc:816] Optimization results for grappler item: graph_to_optimize\n",
            "2020-10-16 22:40:52.456453: I tensorflow/core/grappler/optimizers/meta_optimizer.cc:818]   debug_stripper: Graph size after: 983 nodes (0), 1006 edges (0), time = 0.903ms.\n",
            "2020-10-16 22:40:52.456468: I tensorflow/core/grappler/optimizers/meta_optimizer.cc:818]   model_pruner: Graph size after: 598 nodes (-385), 619 edges (-387), time = 5.728ms.\n",
            "2020-10-16 22:40:52.456478: I tensorflow/core/grappler/optimizers/meta_optimizer.cc:818]   constant_folding: Graph size after: 541 nodes (-57), 554 edges (-65), time = 29.093ms.\n",
            "2020-10-16 22:40:52.456491: I tensorflow/core/grappler/optimizers/meta_optimizer.cc:818]   arithmetic_optimizer: Graph size after: 541 nodes (0), 554 edges (0), time = 11.618ms.\n",
            "2020-10-16 22:40:52.456502: I tensorflow/core/grappler/optimizers/meta_optimizer.cc:818]   dependency_optimizer: Graph size after: 519 nodes (-22), 530 edges (-24), time = 4.939ms.\n",
            "2020-10-16 22:40:52.456515: I tensorflow/core/grappler/optimizers/meta_optimizer.cc:818]   model_pruner: Graph size after: 519 nodes (0), 530 edges (0), time = 2.591ms.\n",
            "2020-10-16 22:40:52.456527: I tensorflow/core/grappler/optimizers/meta_optimizer.cc:818]   constant_folding: Graph size after: 519 nodes (0), 530 edges (0), time = 13.043ms.\n",
            "2020-10-16 22:40:52.456539: I tensorflow/core/grappler/optimizers/meta_optimizer.cc:818]   arithmetic_optimizer: Graph size after: 519 nodes (0), 530 edges (0), time = 12.406ms.\n",
            "2020-10-16 22:40:52.456569: I tensorflow/core/grappler/optimizers/meta_optimizer.cc:818]   dependency_optimizer: Graph size after: 519 nodes (0), 530 edges (0), time = 4.426ms.\n",
            "2020-10-16 22:40:52.456584: I tensorflow/core/grappler/optimizers/meta_optimizer.cc:818]   debug_stripper: debug_stripper did nothing. time = 0.606ms.\n",
            "2020-10-16 22:40:52.456596: I tensorflow/core/grappler/optimizers/meta_optimizer.cc:818]   model_pruner: Graph size after: 519 nodes (0), 530 edges (0), time = 1.798ms.\n",
            "2020-10-16 22:40:52.456608: I tensorflow/core/grappler/optimizers/meta_optimizer.cc:818]   constant_folding: Graph size after: 519 nodes (0), 530 edges (0), time = 11.841ms.\n",
            "2020-10-16 22:40:52.456620: I tensorflow/core/grappler/optimizers/meta_optimizer.cc:818]   arithmetic_optimizer: Graph size after: 519 nodes (0), 530 edges (0), time = 11.783ms.\n",
            "2020-10-16 22:40:52.456633: I tensorflow/core/grappler/optimizers/meta_optimizer.cc:818]   dependency_optimizer: Graph size after: 519 nodes (0), 530 edges (0), time = 3.942ms.\n",
            "2020-10-16 22:40:52.456645: I tensorflow/core/grappler/optimizers/meta_optimizer.cc:818]   model_pruner: Graph size after: 519 nodes (0), 530 edges (0), time = 2.599ms.\n",
            "2020-10-16 22:40:52.456657: I tensorflow/core/grappler/optimizers/meta_optimizer.cc:818]   constant_folding: Graph size after: 519 nodes (0), 530 edges (0), time = 12.627ms.\n",
            "2020-10-16 22:40:52.456670: I tensorflow/core/grappler/optimizers/meta_optimizer.cc:818]   arithmetic_optimizer: Graph size after: 519 nodes (0), 530 edges (0), time = 12.816ms.\n",
            "2020-10-16 22:40:52.456682: I tensorflow/core/grappler/optimizers/meta_optimizer.cc:818]   dependency_optimizer: Graph size after: 519 nodes (0), 530 edges (0), time = 4.105ms.\n",
            "WARNING:tensorflow:Didn't find expected Conv2D or DepthwiseConv2dNative input to 'MobilenetV2/expanded_conv_7/depthwise/BatchNorm/FusedBatchNormV3'\n",
            "WARNING:tensorflow:Didn't find expected Conv2D or DepthwiseConv2dNative input to 'MobilenetV2/expanded_conv_8/depthwise/BatchNorm/FusedBatchNormV3'\n",
            "WARNING:tensorflow:Didn't find expected Conv2D or DepthwiseConv2dNative input to 'MobilenetV2/expanded_conv_9/depthwise/BatchNorm/FusedBatchNormV3'\n",
            "WARNING:tensorflow:Didn't find expected Conv2D or DepthwiseConv2dNative input to 'MobilenetV2/expanded_conv_10/depthwise/BatchNorm/FusedBatchNormV3'\n",
            "WARNING:tensorflow:Didn't find expected Conv2D or DepthwiseConv2dNative input to 'MobilenetV2/expanded_conv_11/depthwise/BatchNorm/FusedBatchNormV3'\n",
            "WARNING:tensorflow:Didn't find expected Conv2D or DepthwiseConv2dNative input to 'MobilenetV2/expanded_conv_12/depthwise/BatchNorm/FusedBatchNormV3'\n",
            "WARNING:tensorflow:Didn't find expected Conv2D or DepthwiseConv2dNative input to 'MobilenetV2/expanded_conv_13/depthwise/BatchNorm/FusedBatchNormV3'\n",
            "WARNING:tensorflow:Didn't find expected Conv2D or DepthwiseConv2dNative input to 'MobilenetV2/expanded_conv_14/depthwise/BatchNorm/FusedBatchNormV3'\n",
            "WARNING:tensorflow:Didn't find expected Conv2D or DepthwiseConv2dNative input to 'MobilenetV2/expanded_conv_15/depthwise/BatchNorm/FusedBatchNormV3'\n",
            "WARNING:tensorflow:Didn't find expected Conv2D or DepthwiseConv2dNative input to 'MobilenetV2/expanded_conv_16/depthwise/BatchNorm/FusedBatchNormV3'\n",
            "2020-10-16 22:40:58.931081: I tensorflow/core/grappler/optimizers/meta_optimizer.cc:816] Optimization results for grappler item: graph_to_optimize\n",
            "2020-10-16 22:40:58.931158: I tensorflow/core/grappler/optimizers/meta_optimizer.cc:818]   remapper: Graph size after: 575 nodes (12), 420 edges (22), time = 12.121ms.\n",
            "2020-10-16 22:40:58.931172: I tensorflow/core/grappler/optimizers/meta_optimizer.cc:818]   constant_folding: Graph size after: 319 nodes (-256), 330 edges (-90), time = 30.445ms.\n",
            "2020-10-16 22:40:58.931181: I tensorflow/core/grappler/optimizers/meta_optimizer.cc:818]   arithmetic_optimizer: Graph size after: 319 nodes (0), 330 edges (0), time = 12.224ms.\n",
            "2020-10-16 22:40:58.931193: I tensorflow/core/grappler/optimizers/meta_optimizer.cc:818]   dependency_optimizer: Graph size after: 319 nodes (0), 330 edges (0), time = 2.832ms.\n",
            "2020-10-16 22:40:58.931222: I tensorflow/core/grappler/optimizers/meta_optimizer.cc:818]   remapper: Graph size after: 319 nodes (0), 330 edges (0), time = 1.425ms.\n",
            "2020-10-16 22:40:58.931244: I tensorflow/core/grappler/optimizers/meta_optimizer.cc:818]   constant_folding: Graph size after: 319 nodes (0), 330 edges (0), time = 10.065ms.\n",
            "2020-10-16 22:40:58.931257: I tensorflow/core/grappler/optimizers/meta_optimizer.cc:818]   arithmetic_optimizer: Graph size after: 319 nodes (0), 330 edges (0), time = 10.271ms.\n",
            "2020-10-16 22:40:58.931270: I tensorflow/core/grappler/optimizers/meta_optimizer.cc:818]   dependency_optimizer: Graph size after: 319 nodes (0), 330 edges (0), time = 2.837ms.\n",
            "Writing weight file /content/output/web_model_2/model.json...\n"
          ],
          "name": "stdout"
        }
      ]
    },
    {
      "cell_type": "code",
      "metadata": {
        "id": "baLN2cn7Ntjx"
      },
      "source": [
        "!npm install @tensorflow/tfjs"
      ],
      "execution_count": null,
      "outputs": []
    },
    {
      "cell_type": "code",
      "metadata": {
        "id": "vr1ZBNM5IiFa",
        "outputId": "537a4242-5348-4cf3-9169-8c9d93579350",
        "colab": {
          "base_uri": "https://localhost:8080/",
          "height": 17
        }
      },
      "source": [
        "%%javascript\n",
        "import * as tf from '@tensorflow/tfjs';\n",
        "import {loadGraphModel} from '@tensorflow/tfjs-converter';\n",
        "\n",
        "//check https://lutzroeder.github.io/netron/ to see inputs and outputs of the model\n",
        "const modelUrl ='/content/output/web_model/model.json';\n",
        "const model = async () => {\n",
        "  await tf.loadGraphModel(modelUrl);\n",
        "}\n",
        "const model_loaded = model()\n",
        "const zeros = tf.zeros([1, 224, 224, 3]);\n",
        "const x = model.predict(zeros).print();\n",
        "console.log(x)"
      ],
      "execution_count": 20,
      "outputs": [
        {
          "output_type": "display_data",
          "data": {
            "application/javascript": [
              "import * as tf from '@tensorflow/tfjs';\n",
              "import {loadGraphModel} from '@tensorflow/tfjs-converter';\n",
              "\n",
              "//check https://lutzroeder.github.io/netron/ to see inputs and outputs of the model\n",
              "const modelUrl ='/content/output/web_model/model.json';\n",
              "const model = async () => {\n",
              "  await tf.loadGraphModel(modelUrl);\n",
              "}\n",
              "const model_loaded = model()\n",
              "const zeros = tf.zeros([1, 224, 224, 3]);\n",
              "const x = model.predict(zeros).print();\n",
              "console.log(x)"
            ],
            "text/plain": [
              "<IPython.core.display.Javascript object>"
            ]
          },
          "metadata": {
            "tags": []
          }
        }
      ]
    }
  ]
}