{
  "nbformat": 4,
  "nbformat_minor": 0,
  "metadata": {
    "colab": {
      "name": "Load-Python-Js-Model.ipynb",
      "provenance": []
    },
    "kernelspec": {
      "name": "python3",
      "display_name": "Python 3"
    }
  },
  "cells": [
    {
      "cell_type": "code",
      "metadata": {
        "id": "nliDEeJ8AApi"
      },
      "source": [
        "!pip install tensorflowjs\n"
      ],
      "execution_count": null,
      "outputs": []
    },
    {
      "cell_type": "code",
      "metadata": {
        "id": "_copbbXwA9UT",
        "outputId": "b0823019-0585-4971-b356-ca0776b97b50",
        "colab": {
          "base_uri": "https://localhost:8080/",
          "height": 701
        }
      },
      "source": [
        "#Load Frozen Model\n",
        "!tensorflowjs_converter --input_format=tf_frozen_model --output_node_names='SemanticPredictions' /content/frozen_inference_graph.pb /content/output/web_model"
      ],
      "execution_count": 7,
      "outputs": [
        {
          "output_type": "stream",
          "text": [
            "2020-10-16 20:27:41.087524: I tensorflow/stream_executor/platform/default/dso_loader.cc:48] Successfully opened dynamic library libcudart.so.10.1\n",
            "2020-10-16 20:27:43.292831: I tensorflow/core/grappler/optimizers/meta_optimizer.cc:816] Optimization results for grappler item: graph_to_optimize\n",
            "2020-10-16 20:27:43.292903: I tensorflow/core/grappler/optimizers/meta_optimizer.cc:818]   debug_stripper: Graph size after: 996 nodes (0), 1049 edges (0), time = 6.576ms.\n",
            "2020-10-16 20:27:43.292925: I tensorflow/core/grappler/optimizers/meta_optimizer.cc:818]   model_pruner: Graph size after: 696 nodes (-300), 746 edges (-303), time = 16.306ms.\n",
            "2020-10-16 20:27:43.292939: I tensorflow/core/grappler/optimizers/meta_optimizer.cc:818]   constant_folding: Graph size after: 688 nodes (-8), 738 edges (-8), time = 56.724ms.\n",
            "2020-10-16 20:27:43.292948: I tensorflow/core/grappler/optimizers/meta_optimizer.cc:818]   arithmetic_optimizer: Graph size after: 688 nodes (0), 738 edges (0), time = 11.609ms.\n",
            "2020-10-16 20:27:43.292961: I tensorflow/core/grappler/optimizers/meta_optimizer.cc:818]   dependency_optimizer: Graph size after: 668 nodes (-20), 712 edges (-26), time = 5.257ms.\n",
            "2020-10-16 20:27:43.292982: I tensorflow/core/grappler/optimizers/meta_optimizer.cc:818]   model_pruner: Graph size after: 668 nodes (0), 712 edges (0), time = 2.616ms.\n",
            "2020-10-16 20:27:43.292992: I tensorflow/core/grappler/optimizers/meta_optimizer.cc:818]   constant_folding: Graph size after: 668 nodes (0), 712 edges (0), time = 12.014ms.\n",
            "2020-10-16 20:27:43.293005: I tensorflow/core/grappler/optimizers/meta_optimizer.cc:818]   arithmetic_optimizer: Graph size after: 668 nodes (0), 712 edges (0), time = 11.066ms.\n",
            "2020-10-16 20:27:43.293017: I tensorflow/core/grappler/optimizers/meta_optimizer.cc:818]   dependency_optimizer: Graph size after: 668 nodes (0), 712 edges (0), time = 4.448ms.\n",
            "2020-10-16 20:27:43.293029: I tensorflow/core/grappler/optimizers/meta_optimizer.cc:818]   debug_stripper: debug_stripper did nothing. time = 0.522ms.\n",
            "2020-10-16 20:27:43.293041: I tensorflow/core/grappler/optimizers/meta_optimizer.cc:818]   model_pruner: Graph size after: 668 nodes (0), 712 edges (0), time = 2.041ms.\n",
            "2020-10-16 20:27:43.293053: I tensorflow/core/grappler/optimizers/meta_optimizer.cc:818]   constant_folding: Graph size after: 668 nodes (0), 712 edges (0), time = 11.547ms.\n",
            "2020-10-16 20:27:43.293065: I tensorflow/core/grappler/optimizers/meta_optimizer.cc:818]   arithmetic_optimizer: Graph size after: 668 nodes (0), 712 edges (0), time = 11.457ms.\n",
            "2020-10-16 20:27:43.293077: I tensorflow/core/grappler/optimizers/meta_optimizer.cc:818]   dependency_optimizer: Graph size after: 668 nodes (0), 712 edges (0), time = 4.608ms.\n",
            "2020-10-16 20:27:43.293090: I tensorflow/core/grappler/optimizers/meta_optimizer.cc:818]   model_pruner: Graph size after: 668 nodes (0), 712 edges (0), time = 2.583ms.\n",
            "2020-10-16 20:27:43.293102: I tensorflow/core/grappler/optimizers/meta_optimizer.cc:818]   constant_folding: Graph size after: 668 nodes (0), 712 edges (0), time = 12.041ms.\n",
            "2020-10-16 20:27:43.293114: I tensorflow/core/grappler/optimizers/meta_optimizer.cc:818]   arithmetic_optimizer: Graph size after: 668 nodes (0), 712 edges (0), time = 11.674ms.\n",
            "2020-10-16 20:27:43.293126: I tensorflow/core/grappler/optimizers/meta_optimizer.cc:818]   dependency_optimizer: Graph size after: 668 nodes (0), 712 edges (0), time = 4.731ms.\n",
            "WARNING:tensorflow:Didn't find expected Conv2D or DepthwiseConv2dNative input to 'MobilenetV3/expanded_conv_4/depthwise/BatchNorm/FusedBatchNormV3'\n",
            "WARNING:tensorflow:Didn't find expected Conv2D or DepthwiseConv2dNative input to 'MobilenetV3/expanded_conv_5/depthwise/BatchNorm/FusedBatchNormV3'\n",
            "WARNING:tensorflow:Didn't find expected Conv2D or DepthwiseConv2dNative input to 'MobilenetV3/expanded_conv_6/depthwise/BatchNorm/FusedBatchNormV3'\n",
            "WARNING:tensorflow:Didn't find expected Conv2D or DepthwiseConv2dNative input to 'MobilenetV3/expanded_conv_7/depthwise/BatchNorm/FusedBatchNormV3'\n",
            "WARNING:tensorflow:Didn't find expected Conv2D or DepthwiseConv2dNative input to 'MobilenetV3/expanded_conv_8/depthwise/BatchNorm/FusedBatchNormV3'\n",
            "WARNING:tensorflow:Didn't find expected Conv2D or DepthwiseConv2dNative input to 'MobilenetV3/expanded_conv_9/depthwise/BatchNorm/FusedBatchNormV3'\n",
            "WARNING:tensorflow:Didn't find expected Conv2D or DepthwiseConv2dNative input to 'MobilenetV3/expanded_conv_10/depthwise/BatchNorm/FusedBatchNormV3'\n",
            "2020-10-16 20:27:44.748257: I tensorflow/core/grappler/optimizers/meta_optimizer.cc:816] Optimization results for grappler item: graph_to_optimize\n",
            "2020-10-16 20:27:44.748340: I tensorflow/core/grappler/optimizers/meta_optimizer.cc:818]   remapper: Graph size after: 688 nodes (-10), 619 edges (-3), time = 16.067ms.\n",
            "2020-10-16 20:27:44.748355: I tensorflow/core/grappler/optimizers/meta_optimizer.cc:818]   constant_folding: Graph size after: 512 nodes (-176), 556 edges (-63), time = 47.09ms.\n",
            "2020-10-16 20:27:44.748365: I tensorflow/core/grappler/optimizers/meta_optimizer.cc:818]   arithmetic_optimizer: Graph size after: 512 nodes (0), 556 edges (0), time = 8.968ms.\n",
            "2020-10-16 20:27:44.748378: I tensorflow/core/grappler/optimizers/meta_optimizer.cc:818]   dependency_optimizer: Graph size after: 512 nodes (0), 556 edges (0), time = 3.726ms.\n",
            "2020-10-16 20:27:44.748387: I tensorflow/core/grappler/optimizers/meta_optimizer.cc:818]   remapper: Graph size after: 512 nodes (0), 556 edges (0), time = 1.609ms.\n",
            "2020-10-16 20:27:44.748399: I tensorflow/core/grappler/optimizers/meta_optimizer.cc:818]   constant_folding: Graph size after: 512 nodes (0), 556 edges (0), time = 9.448ms.\n",
            "2020-10-16 20:27:44.748411: I tensorflow/core/grappler/optimizers/meta_optimizer.cc:818]   arithmetic_optimizer: Graph size after: 512 nodes (0), 556 edges (0), time = 9.272ms.\n",
            "2020-10-16 20:27:44.748423: I tensorflow/core/grappler/optimizers/meta_optimizer.cc:818]   dependency_optimizer: Graph size after: 512 nodes (0), 556 edges (0), time = 3.692ms.\n",
            "Writing weight file /content/output/web_model/model.json...\n"
          ],
          "name": "stdout"
        }
      ]
    },
    {
      "cell_type": "code",
      "metadata": {
        "id": "baLN2cn7Ntjx"
      },
      "source": [
        "!npm install @tensorflow/tfjs"
      ],
      "execution_count": null,
      "outputs": []
    },
    {
      "cell_type": "code",
      "metadata": {
        "id": "vr1ZBNM5IiFa",
        "outputId": "537a4242-5348-4cf3-9169-8c9d93579350",
        "colab": {
          "base_uri": "https://localhost:8080/",
          "height": 17
        }
      },
      "source": [
        "%%javascript\n",
        "import * as tf from '@tensorflow/tfjs';\n",
        "import {loadGraphModel} from '@tensorflow/tfjs-converter';\n",
        "\n",
        "//check https://lutzroeder.github.io/netron/ to see inputs and outputs of the model\n",
        "const modelUrl ='/content/output/web_model/model.json';\n",
        "const model = async () => {\n",
        "  await tf.loadGraphModel(modelUrl);\n",
        "}\n",
        "const model_loaded = model()\n",
        "const zeros = tf.zeros([1, 224, 224, 3]);\n",
        "const x = model.predict(zeros).print();\n",
        "console.log(x)"
      ],
      "execution_count": 20,
      "outputs": [
        {
          "output_type": "display_data",
          "data": {
            "application/javascript": [
              "import * as tf from '@tensorflow/tfjs';\n",
              "import {loadGraphModel} from '@tensorflow/tfjs-converter';\n",
              "\n",
              "//check https://lutzroeder.github.io/netron/ to see inputs and outputs of the model\n",
              "const modelUrl ='/content/output/web_model/model.json';\n",
              "const model = async () => {\n",
              "  await tf.loadGraphModel(modelUrl);\n",
              "}\n",
              "const model_loaded = model()\n",
              "const zeros = tf.zeros([1, 224, 224, 3]);\n",
              "const x = model.predict(zeros).print();\n",
              "console.log(x)"
            ],
            "text/plain": [
              "<IPython.core.display.Javascript object>"
            ]
          },
          "metadata": {
            "tags": []
          }
        }
      ]
    }
  ]
}